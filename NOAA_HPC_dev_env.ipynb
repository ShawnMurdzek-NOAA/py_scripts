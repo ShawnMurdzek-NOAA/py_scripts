{
 "cells": [
  {
   "cell_type": "markdown",
   "metadata": {},
   "source": [
    "# Development Environment for Jet and Hera\n",
    "  \n",
    "Jet and Hera do not have OnDemand interactive desktops like Orion, so this jupyter notebook can be used instead for running/debugging Python scripts and viewing graphics without needing to download graphics locally.  \n",
    "  \n",
    "Python scripts can be run using the following command: `%run <script>`\n",
    "  \n",
    "shawn.s.murdzek@noaa.gov"
   ]
  },
  {
   "cell_type": "code",
   "execution_count": 1,
   "metadata": {},
   "outputs": [],
   "source": [
    "from importlib import reload\n",
    "import numpy as np"
   ]
  },
  {
   "cell_type": "code",
   "execution_count": 31,
   "metadata": {},
   "outputs": [
    {
     "name": "stdout",
     "output_type": "stream",
     "text": [
      "\n",
      "-------------------\n",
      "Making plots for ps\n",
      "\n",
      "Dataset = HRRR-like\n",
      "\n",
      "-------------------\n",
      "Making plots for t\n",
      "\n",
      "Dataset = HRRR-like\n",
      "\n",
      "-------------------\n",
      "Making plots for q\n",
      "\n",
      "Dataset = HRRR-like\n",
      "\n",
      "-------------------\n",
      "Making plots for u\n",
      "\n",
      "Dataset = HRRR-like\n",
      "\n",
      "-------------------\n",
      "Making plots for v\n",
      "\n",
      "Dataset = HRRR-like\n",
      "\n",
      "-------------------\n",
      "Making plots for pw\n",
      "\n",
      "Dataset = HRRR-like\n"
     ]
    }
   ],
   "source": [
    "gsi = reload(gsi)\n",
    "%run ./gsi/diag_omf_cts_boxplots.py"
   ]
  },
  {
   "cell_type": "code",
   "execution_count": null,
   "metadata": {},
   "outputs": [],
   "source": []
  }
 ],
 "metadata": {
  "kernelspec": {
   "display_name": "Python 3",
   "language": "python",
   "name": "python3"
  },
  "language_info": {
   "codemirror_mode": {
    "name": "ipython",
    "version": 3
   },
   "file_extension": ".py",
   "mimetype": "text/x-python",
   "name": "python",
   "nbconvert_exporter": "python",
   "pygments_lexer": "ipython3",
   "version": "3.8.2"
  }
 },
 "nbformat": 4,
 "nbformat_minor": 4
}
